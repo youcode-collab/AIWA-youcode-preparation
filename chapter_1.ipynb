{
 "cells": [
  {
   "cell_type": "markdown",
   "id": "fb3b5bf9",
   "metadata": {},
   "source": [
    "# Chapter 1: Introduction to Jupyter Notebook and Google Colab\n",
    "\n",
    "**Welcome to your first chapter on interactive notebooks!**\n",
    "\n",
    "This chapter will guide you through the fundamental concepts of Jupyter Notebook and Google Colab, two essential tools for data science, analysis, and interactive Python programming.\n",
    "\n",
    "---"
   ]
  },
  {
   "cell_type": "markdown",
   "id": "7efcab68",
   "metadata": {},
   "source": [
    "## 1. Introduction to Jupyter Notebook\n",
    "\n",
    "### What is Jupyter Notebook?\n",
    "\n",
    "Jupyter Notebook is an interactive development environment that allows you to create and share documents containing:\n",
    "- **Executable code** (Python, R, Julia, etc.)\n",
    "- **Formatted text** (Markdown)\n",
    "- **Mathematical equations** (LaTeX)\n",
    "- **Visualizations** (graphs, images)\n",
    "- **Interactive widgets**\n",
    "\n",
    "### Why use Jupyter Notebook?\n",
    "\n",
    "✅ **Easy to learn**: Perfect for beginners\n",
    "✅ **Interactive exploration**: Test your code step by step\n",
    "✅ **Integrated documentation**: Mix code and explanations\n",
    "✅ **Data visualization**: Display your graphs directly\n",
    "✅ **Easy sharing**: Export to HTML, PDF or share directly\n",
    "\n",
    "### Common use cases:\n",
    "- Data analysis\n",
    "- Machine Learning\n",
    "- Rapid prototyping\n",
    "- Teaching and learning\n",
    "- Scientific research\n",
    "- Reporting and presenting results"
   ]
  },
  {
   "cell_type": "markdown",
   "id": "08c58e19",
   "metadata": {},
   "source": [
    "## 2. Basic Features of Jupyter Notebook\n",
    "\n",
    "### Cell Types\n",
    "\n",
    "There are mainly two types of cells:\n",
    "\n",
    "1. **Code cells**: To write and execute Python code\n",
    "2. **Markdown cells**: To write formatted text, titles, lists, etc.\n",
    "\n",
    "### Essential Keyboard Shortcuts\n",
    "\n",
    "| Action                   | Windows/Linux Shortcut | Mac Shortcut      |\n",
    "|--------------------------|-----------------------|-------------------|\n",
    "| Run a cell               | `Shift + Enter`       | `control + Enter`   |\n",
    "| Insert cell below        | `B`                   | `B`               |\n",
    "| Insert cell above        | `A`                   | `A`               |\n",
    "| Delete a cell            | `DD` (press D twice)  | `DD` (press D twice) |\n",
    "| Change to code cell      | `Y`                   | `Y`               |\n",
    "| Change to Markdown cell  | `M`                   | `M`               |\n",
    "| Edit mode                | `Enter`               | `Enter`           |\n",
    "| Command mode             | `Esc`                 | `Esc`             |\n",
    "| Select multiple cells    | `Shift + Up/Down`     | `Shift + Up/Down` |\n",
    "| Save notebook            | `Ctrl + S`            | `Cmd + S`         |\n",
    "\n",
    "### Interaction Modes\n",
    "\n",
    "- **Command mode** (blue border): Navigate between cells\n",
    "- **Edit mode** (green border): Edit cell content"
   ]
  },
  {
   "cell_type": "code",
   "execution_count": 10,
   "id": "43f7f5a9",
   "metadata": {},
   "outputs": [
    {
     "name": "stdout",
     "output_type": "stream",
     "text": [
      "Hello! Welcome to Jupyter Notebook 🎉\n",
      "This cell contains Python code.\n",
      "5 + 3 = 8\n",
      "Hello Student!\n"
     ]
    }
   ],
   "source": [
    "# Here's your first code cell!\n",
    "# Click on this cell and press Shift+Enter to run it\n",
    "\n",
    "print(\"Hello! Welcome to Jupyter Notebook 🎉\")\n",
    "print(\"This cell contains Python code.\")\n",
    "\n",
    "# Simple calculation\n",
    "result = 5 + 3\n",
    "print(f\"5 + 3 = {result}\")\n",
    "\n",
    "# Working with text\n",
    "name = \"Student\"\n",
    "print(f\"Hello {name}!\")"
   ]
  },
  {
   "cell_type": "markdown",
   "id": "0bdf1e62",
   "metadata": {},
   "source": [
    "## 2. Introduction to Google Colab\n",
    "\n",
    "### What is Google Colab?\n",
    "\n",
    "Google Colaboratory (Colab) is a free version of Jupyter Notebook hosted by Google that runs entirely in the cloud.\n",
    "\n",
    "### Advantages of Google Colab:\n",
    "\n",
    "🌟 **Free**: No installation required\n",
    "🌟 **Cloud access**: Work from anywhere\n",
    "🌟 **Free GPU/TPU**: Hardware acceleration for machine learning\n",
    "🌟 **Collaboration**: Easy sharing like Google Docs\n",
    "🌟 **Pre-installed libraries**: NumPy, Pandas, TensorFlow, etc.\n",
    "🌟 **Google Drive integration**: Automatic saving\n",
    "\n",
    "### Main differences with local Jupyter:\n",
    "\n",
    "| Aspect | Local Jupyter | Google Colab |\n",
    "|--------|---------------|---------------|\n",
    "| Installation | Required | None |\n",
    "| Access | Local only | Anywhere with internet |\n",
    "| Resources | Limited by your machine | Free GPU/TPU |\n",
    "| Collaboration | Difficult | Easy (like Google Docs) |\n",
    "| Persistence | Local files | Google Drive |\n",
    "| Libraries | Manual installation | Pre-installed |"
   ]
  },
  {
   "cell_type": "markdown",
   "id": "54425bbf",
   "metadata": {},
   "source": [
    "## 4. Basic Features of Google Colab\n",
    "\n",
    "### How to get started with Google Colab:\n",
    "\n",
    "1. **Access**: Go to [colab.research.google.com](https://colab.research.google.com)\n",
    "2. **Login**: Sign in with your Google account\n",
    "3. **New notebook**: Click \"New notebook\"\n",
    "4. **Rename**: Click \"Untitled.ipynb\" to rename\n",
    "\n",
    "### Special features of Colab:\n",
    "\n",
    "#### 1. Runtime (Execution Environment)\n",
    "- **CPU**: Standard processing\n",
    "- **GPU**: Acceleration for deep learning (Tesla T4)\n",
    "- **TPU**: Google's tensor processors\n",
    "\n",
    "#### 2. Special magic commands\n",
    "- `!pip install package_name`: Install packages\n",
    "- `!ls`: List files\n",
    "- `!wget url`: Download files\n",
    "- `%cd directory`: Change directory\n",
    "\n",
    "#### 3. Google Drive Mounting\n",
    "To access your Google Drive files:"
   ]
  },
  {
   "cell_type": "code",
   "execution_count": 11,
   "id": "6e78a8cd",
   "metadata": {},
   "outputs": [
    {
     "name": "stdout",
     "output_type": "stream",
     "text": [
      "Note: This command only works in Google Colab\n",
      "It allows you to access your Google Drive files\n",
      "\n",
      "Basic file operations (work everywhere):\n",
      "- Reading files: open('filename.txt', 'r')\n",
      "- Writing files: open('filename.txt', 'w')\n",
      "- Checking if file exists: import os; os.path.exists('filename')\n"
     ]
    }
   ],
   "source": [
    "# Command to mount Google Drive in Colab\n",
    "# (This command only works in Google Colab)\n",
    "\n",
    "# from google.colab import drive\n",
    "# drive.mount('/content/drive')\n",
    "\n",
    "# Once executed, you can access your files:\n",
    "# import os\n",
    "# os.listdir('/content/drive/MyDrive')\n",
    "\n",
    "print(\"Note: This command only works in Google Colab\")\n",
    "print(\"It allows you to access your Google Drive files\")\n",
    "\n",
    "# Instead, let's show basic file operations that work everywhere\n",
    "print(\"\\nBasic file operations (work everywhere):\")\n",
    "print(\"- Reading files: open('filename.txt', 'r')\")\n",
    "print(\"- Writing files: open('filename.txt', 'w')\")\n",
    "print(\"- Checking if file exists: import os; os.path.exists('filename')\")"
   ]
  },
  {
   "cell_type": "code",
   "execution_count": 12,
   "id": "e3b9ed75",
   "metadata": {},
   "outputs": [
    {
     "name": "stdout",
     "output_type": "stream",
     "text": [
      "Version de Python : 3.12.7 | packaged by Anaconda, Inc. | (main, Oct  4 2024, 08:22:19) [Clang 14.0.6 ]\n",
      "Plateforme : darwin\n",
      "\n",
      "Modules Python intégrés toujours disponibles :\n",
      "✅ math - disponible\n",
      "✅ random - disponible\n",
      "✅ datetime - disponible\n",
      "✅ json - disponible\n",
      "✅ os - disponible\n",
      "✅ sys - disponible\n",
      "✅ time - disponible\n",
      "✅ collections - disponible\n",
      "✅ itertools - disponible\n",
      "\n",
      "Remarque : Ces modules sont fournis avec Python, aucune installation n'est nécessaire !\n"
     ]
    }
   ],
   "source": [
    "# Installation de packages dans Colab\n",
    "# Utilisez le préfixe ! pour exécuter des commandes shell\n",
    "\n",
    "# Exemple d'installation (décommentez pour tester dans Colab)\n",
    "# !pip install seaborn plotly\n",
    "\n",
    "# Vérification des packages déjà installés\n",
    "import sys\n",
    "\n",
    "print(f\"Version de Python : {sys.version}\")\n",
    "print(f\"Plateforme : {sys.platform}\")\n",
    "\n",
    "# Modules intégrés toujours disponibles\n",
    "modules_internes = [\n",
    "    'math', 'random', 'datetime', 'json', 'os', \n",
    "    'sys', 'time', 'collections', 'itertools'\n",
    "]\n",
    "\n",
    "print(\"\\nModules Python intégrés toujours disponibles :\")\n",
    "for module in modules_internes:\n",
    "    try:\n",
    "        __import__(module)\n",
    "        print(f\"✅ {module} - disponible\")\n",
    "    except ImportError:\n",
    "        print(f\"❌ {module} - non disponible\")\n",
    "\n",
    "print(\"\\nRemarque : Ces modules sont fournis avec Python, aucune installation n'est nécessaire !\")"
   ]
  },
  {
   "cell_type": "markdown",
   "id": "92f4c5fb",
   "metadata": {},
   "source": [
    "## Conclusion\n",
    "\n",
    "lets continue to the next chapter🫵"
   ]
  }
 ],
 "metadata": {
  "kernelspec": {
   "display_name": "base",
   "language": "python",
   "name": "python3"
  },
  "language_info": {
   "codemirror_mode": {
    "name": "ipython",
    "version": 3
   },
   "file_extension": ".py",
   "mimetype": "text/x-python",
   "name": "python",
   "nbconvert_exporter": "python",
   "pygments_lexer": "ipython3",
   "version": "3.12.7"
  }
 },
 "nbformat": 4,
 "nbformat_minor": 5
}
